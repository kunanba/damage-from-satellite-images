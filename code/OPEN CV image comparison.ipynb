{
 "cells": [
  {
   "cell_type": "markdown",
   "metadata": {},
   "source": [
    "#this is the link\n",
    "https://www.pyimagesearch.com/2017/06/19/image-difference-with-opencv-and-python/"
   ]
  },
  {
   "cell_type": "markdown",
   "metadata": {},
   "source": [
    "There's no need to import argparse and pass as arguments"
   ]
  },
  {
   "cell_type": "code",
   "execution_count": 1,
   "metadata": {},
   "outputs": [],
   "source": [
    "import cv2\n",
    "import numpy as np\n",
    "import pandas as pd"
   ]
  },
  {
   "cell_type": "code",
   "execution_count": 2,
   "metadata": {},
   "outputs": [],
   "source": [
    "from skimage.measure import compare_ssim\n",
    "import imutils"
   ]
  },
  {
   "cell_type": "code",
<<<<<<< HEAD:OPEN CV image comparison.ipynb
   "execution_count": 9,
   "metadata": {},
   "outputs": [],
   "source": [
    "img1 = cv2.imread('./images/Tornado_Joplin_Missouri_before.jpg')\n",
    "img2 = cv2.imread('./images/Tornado_Joplin_Missouri_after.jpg')"
   ]
  },
  {
   "cell_type": "code",
   "execution_count": 10,
   "metadata": {},
   "outputs": [
    {
     "data": {
      "text/plain": [
       "(791, 542, 3)"
      ]
     },
     "execution_count": 10,
     "metadata": {},
     "output_type": "execute_result"
    }
   ],
   "source": [
    "img1.shape"
   ]
  },
  {
   "cell_type": "code",
   "execution_count": 11,
   "metadata": {},
   "outputs": [
    {
     "data": {
      "text/plain": [
       "(795, 618, 3)"
      ]
     },
     "execution_count": 11,
     "metadata": {},
     "output_type": "execute_result"
    }
   ],
   "source": [
    "img2.shape"
   ]
  },
  {
   "cell_type": "code",
   "execution_count": 12,
   "metadata": {},
   "outputs": [],
   "source": [
    "h1,w1 = img1.shape[:2]\n",
    "h2,w2 = img2.shape[:2]\n",
    "\n",
    "if (img1.shape > img2.shape):\n",
    "    img1 = cv2.resize(img1,(w2,h2))\n",
    "else:\n",
    "    img2 = cv2.resize(img2,(w1,h1)) "
   ]
  },
  {
   "cell_type": "code",
   "execution_count": 13,
   "metadata": {},
   "outputs": [
    {
     "name": "stdout",
     "output_type": "stream",
     "text": [
      "(791, 542, 3)\n",
      "(791, 542, 3)\n"
     ]
    }
   ],
   "source": [
    "print(img1.shape)\n",
    "print(img2.shape)"
   ]
  },
  {
   "cell_type": "code",
   "execution_count": 14,
=======
   "execution_count": 3,
>>>>>>> b65f66c98385573751d4d2c9146080f152bbb3d6:code/OPEN CV image comparison.ipynb
   "metadata": {},
   "outputs": [
    {
     "data": {
      "text/plain": [
       "True"
      ]
     },
<<<<<<< HEAD:OPEN CV image comparison.ipynb
     "execution_count": 14,
=======
     "execution_count": 3,
>>>>>>> b65f66c98385573751d4d2c9146080f152bbb3d6:code/OPEN CV image comparison.ipynb
     "metadata": {},
     "output_type": "execute_result"
    }
   ],
   "source": [
<<<<<<< HEAD:OPEN CV image comparison.ipynb
    "\n",
=======
    "img1 = cv2.imread('./images/omaha_before.jpg')\n",
    "img2 = cv2.imread('./images/omaha_after.jpg')\n",
>>>>>>> b65f66c98385573751d4d2c9146080f152bbb3d6:code/OPEN CV image comparison.ipynb
    "diff = cv2.absdiff(img1, img2)\n",
    "gray = cv2.cvtColor(diff, cv2.COLOR_BGR2GRAY)\n",
    "\n",
    "## find the nozero regions in the gray\n",
    "imask =  gray>0\n",
    "\n",
    "## create a Mat like img2\n",
    "canvas = np.zeros_like(img2, np.uint8)\n",
    "\n",
    "## set mask \n",
    "canvas[imask] = img2[imask]\n",
    "cv2.imwrite(\"result.png\", canvas)"
   ]
  },
  {
   "cell_type": "code",
<<<<<<< HEAD:OPEN CV image comparison.ipynb
   "execution_count": 9,
=======
   "execution_count": 4,
>>>>>>> b65f66c98385573751d4d2c9146080f152bbb3d6:code/OPEN CV image comparison.ipynb
   "metadata": {},
   "outputs": [],
   "source": [
    "# convert the images to grayscale\n",
    "grayA = cv2.cvtColor(img1, cv2.COLOR_BGR2GRAY)\n",
    "grayB = cv2.cvtColor(img2, cv2.COLOR_BGR2GRAY)"
   ]
  },
  {
   "cell_type": "code",
<<<<<<< HEAD:OPEN CV image comparison.ipynb
   "execution_count": 10,
=======
   "execution_count": 5,
>>>>>>> b65f66c98385573751d4d2c9146080f152bbb3d6:code/OPEN CV image comparison.ipynb
   "metadata": {},
   "outputs": [
    {
     "name": "stdout",
     "output_type": "stream",
     "text": [
<<<<<<< HEAD:OPEN CV image comparison.ipynb
      "SSIM: 0.024049061549214663\n"
=======
      "SSIM: 0.40499962562968844\n"
>>>>>>> b65f66c98385573751d4d2c9146080f152bbb3d6:code/OPEN CV image comparison.ipynb
     ]
    }
   ],
   "source": [
    "# compute the Structural Similarity Index (SSIM) between the two\n",
    "# images, ensuring that the difference image is returned\n",
    "(score, diff) = compare_ssim(grayA, grayB, full=True)\n",
    "diff = (diff * 255).astype(\"uint8\")\n",
    "print(\"SSIM: {}\".format(score))"
   ]
  },
  {
   "cell_type": "code",
<<<<<<< HEAD:OPEN CV image comparison.ipynb
   "execution_count": 11,
=======
   "execution_count": 6,
>>>>>>> b65f66c98385573751d4d2c9146080f152bbb3d6:code/OPEN CV image comparison.ipynb
   "metadata": {},
   "outputs": [],
   "source": [
    "# threshold the difference image, followed by finding contours to\n",
    "# obtain the regions of the two input images that differ\n",
    "thresh = cv2.threshold(diff, 0, 255, cv2.THRESH_BINARY_INV | cv2.THRESH_OTSU)[1]\n",
    "cnts = cv2.findContours(thresh.copy(), cv2.RETR_EXTERNAL, cv2.CHAIN_APPROX_SIMPLE)\n",
    "cnts = imutils.grab_contours(cnts)"
   ]
  },
  {
   "cell_type": "code",
   "execution_count": null,
   "metadata": {},
   "outputs": [],
   "source": [
    "# loop over the contours\n",
    "for c in cnts:\n",
    "# compute the bounding box of the contour and then draw the\n",
    "# bounding box on both input images to represent where the two\n",
    "# images differ\n",
    "    (x, y, w, h) = cv2.boundingRect(c)\n",
    "    cv2.rectangle(img1, (x, y), (x + w, y + h), (0, 0, 255), 2)\n",
    "    cv2.rectangle(img2, (x, y), (x + w, y + h), (0, 0, 255), 2)\n",
    " \n",
    "\n",
    "# show the output images\n",
    "cv2.imshow(\"Original\", img1)\n",
    "cv2.imshow(\"Modified\", img2)\n",
    "cv2.imshow(\"Diff\", diff)\n",
    "cv2.imshow(\"Thresh\", thresh)\n",
    "cv2.waitKey(0)"
   ]
  },
  {
   "cell_type": "code",
   "execution_count": null,
   "metadata": {},
   "outputs": [],
   "source": []
  }
 ],
 "metadata": {
  "kernelspec": {
   "display_name": "Python 3",
   "language": "python",
   "name": "python3"
  },
  "language_info": {
   "codemirror_mode": {
    "name": "ipython",
    "version": 3
   },
   "file_extension": ".py",
   "mimetype": "text/x-python",
   "name": "python",
   "nbconvert_exporter": "python",
   "pygments_lexer": "ipython3",
   "version": "3.6.8"
  }
 },
 "nbformat": 4,
 "nbformat_minor": 2
}

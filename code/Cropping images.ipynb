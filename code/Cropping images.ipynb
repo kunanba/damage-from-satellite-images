{
 "cells": [
  {
   "cell_type": "code",
   "execution_count": 1,
   "metadata": {},
   "outputs": [],
   "source": [
    "import cv2\n",
    "import numpy as np\n",
    "from skimage.measure import compare_ssim, compare_psnr\n",
    "import imutils\n",
    "import matplotlib.pyplot as plt\n",
    "\n",
    "%matplotlib inline"
   ]
  },
  {
   "cell_type": "code",
   "execution_count": null,
   "metadata": {},
   "outputs": [],
   "source": [
    "# this should work with PIL Image, didn't use it the first time but when this cell is uncommented -> comment two cell below\n",
    "# import glob\n",
    "# from PIL import Image\n",
    "# images = glob.glob('images/*.jpg')\n",
    "# img = Image.open(picture)"
   ]
  },
  {
   "cell_type": "code",
   "execution_count": 2,
   "metadata": {},
   "outputs": [],
   "source": [
    "# comment this cell if code above is used\n",
    "# reading into files\n",
    "img_to_rsz1 = cv2.imread('./images/Hurricane_Harvey_TX_before.jpg')\n",
    "img_to_rsz2 = cv2.imread('./images/Hurricane_Harvey_TX_after.jpg')\n",
    "img_to_rsz3 = cv2.imread('./images/Hurricane_Harvey_freeport_before.jpg')\n",
    "img_to_rsz4 = cv2.imread('./images/Hurricane_Harvey_freeport_after.jpg')\n",
    "img_to_rsz5 = cv2.imread('./images/Tornado_Joplin_Missouri_before.jpg')\n",
    "img_to_rsz6 = cv2.imread('./images/Tornado_Joplin_Missouri_after.jpg')\n",
    "img_to_rsz7 = cv2.imread('./images/wildfire_CA_before.jpg')\n",
    "img_to_rsz8 = cv2.imread('./images/Wildfire_CA_wildfire_after.jpg')\n",
    "img_to_rsz9 = cv2.imread('./images/omaha_before.jpg')\n",
    "img_to_rsz10 = cv2.imread('./images/omaha_after.jpg')"
   ]
  },
  {
   "cell_type": "code",
   "execution_count": 3,
   "metadata": {},
   "outputs": [],
   "source": [
    "# comment this cell if code above is used\n",
    "images = [img_to_rsz1, img_to_rsz2, img_to_rsz3, img_to_rsz4, img_to_rsz5,\n",
    "          img_to_rsz6, img_to_rsz7, img_to_rsz8, img_to_rsz9, img_to_rsz10]"
   ]
  },
  {
   "cell_type": "code",
   "execution_count": 4,
   "metadata": {},
   "outputs": [
    {
     "name": "stdout",
     "output_type": "stream",
     "text": [
      "(421, 560, 3)\n",
      "(419, 559, 3)\n",
      "(594, 809, 3)\n",
      "(596, 797, 3)\n",
      "(791, 542, 3)\n",
      "(795, 618, 3)\n",
      "(370, 745, 3)\n",
      "(390, 743, 3)\n",
      "(480, 720, 3)\n",
      "(480, 720, 3)\n"
     ]
    }
   ],
   "source": [
    "# print out the image shape\n",
    "for img in images:\n",
    "    print(img.shape)"
   ]
  },
  {
   "cell_type": "code",
   "execution_count": 5,
   "metadata": {},
   "outputs": [
    {
     "name": "stdout",
     "output_type": "stream",
     "text": [
      "check image sizes of [[101 157 192]\n",
      " [ 92 127 160]\n",
      " [ 93 130 168]\n",
      " ...\n",
      " [ 62  88 135]\n",
      " [ 63  88 128]\n",
      " [ 67  91 143]]\n",
      "check image sizes of [[ 85 112 103]\n",
      " [ 81 113 112]\n",
      " [100 140 145]\n",
      " ...\n",
      " [ 96 148 131]\n",
      " [ 98 144 132]\n",
      " [ 88 125 121]]\n"
     ]
    }
   ],
   "source": [
    "# cropping images\n",
    "cropped = []\n",
    "for i, img in enumerate(images):\n",
    "    if img.shape[0] in range(350,400) and img.shape[1] in range(700,800):\n",
    "        cropped.append(img[5:350, 5:700])\n",
    "    elif img.shape[0] in range(400,450) and img.shape[1] in range(500,600):\n",
    "        cropped.append(img[5:400, 5:500])\n",
    "    elif img.shape[0] in range(450,500) and img.shape in range(700,750):\n",
    "        cropped.append(img[5:450, 5:700])\n",
    "    elif img.shape[0] in range(550,600) and img.shape[1] in range(750,850):\n",
    "        cropped.append(img[5:550, 5:750])\n",
    "    elif img.shape[0] in range(750,800) and img.shape[1] in range(500,650):\n",
    "        cropped.append(img[5:750, 5:550])\n",
    "    else:\n",
    "        print(f'check image sizes of {img[i]}')\n",
    " "
   ]
  },
  {
   "cell_type": "code",
   "execution_count": 6,
   "metadata": {},
   "outputs": [
    {
     "name": "stdout",
     "output_type": "stream",
     "text": [
      "(395, 495, 3)\n",
      "(395, 495, 3)\n",
      "(545, 745, 3)\n",
      "(545, 745, 3)\n",
      "(745, 537, 3)\n",
      "(745, 545, 3)\n",
      "(345, 695, 3)\n",
      "(345, 695, 3)\n"
     ]
    }
   ],
   "source": [
    "# check the cropped image sizes\n",
    "for img in cropped:\n",
    "    print(img.shape)"
   ]
  },
  {
   "cell_type": "code",
   "execution_count": 7,
   "metadata": {},
   "outputs": [],
   "source": [
    "# write the files\n",
    "for i, img in enumerate(cropped):\n",
    "    cv2.imwrite(f'./Outputimages/cropped{i}.jpg', img)"
   ]
  },
  {
   "cell_type": "code",
   "execution_count": 8,
   "metadata": {},
   "outputs": [],
   "source": [
    "# convert images to grayscale\n",
    "gray = []\n",
    "for img in cropped:\n",
    "    gray.append(cv2.cvtColor(img, cv2.COLOR_BGR2GRAY))"
   ]
  },
  {
   "cell_type": "code",
   "execution_count": 9,
   "metadata": {},
   "outputs": [],
   "source": [
    "# write the files\n",
    "for i, img in enumerate(gray):\n",
    "    cv2.imwrite(f'./Grayimages/grayscaled{i}.jpg', img)"
   ]
  },
  {
   "cell_type": "code",
   "execution_count": 10,
   "metadata": {},
   "outputs": [
    {
     "name": "stdout",
     "output_type": "stream",
     "text": [
      "SSIM for 0 pair is: 0.6092987811343469\n",
      "PSNR for 0 pair is: 20.656434413614605\n",
      "SSIM for 2 pair is: 0.5045837860622617\n",
      "PSNR for 2 pair is: 19.9518504701099\n",
      "SSIM for 4 pair is: 0.6485553949588426\n",
      "PSNR for 4 pair is: 18.588252711788744\n",
      "SSIM for 6 pair is: 0.3277414819575182\n",
      "PSNR for 6 pair is: 16.198003704135512\n"
     ]
    }
   ],
   "source": [
    "# calculating the ssim score (Structural Similarity Index)\n",
    "for i, img in enumerate(gray):\n",
    "    if i < len(gray) and i%2==0:\n",
    "        (score, diff) = compare_ssim(img[i], img[i+1], full=True)\n",
    "        diff = (diff * 255).astype(\"uint8\")\n",
    "        print(f'SSIM for {i} pair is: {score}')\n",
    "        print(f'PSNR for {i} pair is: {compare_psnr(img[i], img[i+1])}')"
   ]
  },
  {
   "cell_type": "code",
   "execution_count": null,
   "metadata": {},
   "outputs": [],
   "source": []
  }
 ],
 "metadata": {
  "kernelspec": {
   "display_name": "Python 3",
   "language": "python",
   "name": "python3"
  },
  "language_info": {
   "codemirror_mode": {
    "name": "ipython",
    "version": 3
   },
   "file_extension": ".py",
   "mimetype": "text/x-python",
   "name": "python",
   "nbconvert_exporter": "python",
   "pygments_lexer": "ipython3",
   "version": "3.6.8"
  }
 },
 "nbformat": 4,
 "nbformat_minor": 2
}

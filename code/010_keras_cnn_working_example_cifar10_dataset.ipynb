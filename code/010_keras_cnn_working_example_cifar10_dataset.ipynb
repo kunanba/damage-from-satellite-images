{
 "cells": [
  {
   "cell_type": "markdown",
   "metadata": {},
   "source": [
    "# Keras Working Example"
   ]
  },
  {
   "cell_type": "markdown",
   "metadata": {},
   "source": [
    "### plaidml is to use 2018 MBP video card"
   ]
  },
  {
   "cell_type": "code",
   "execution_count": 8,
   "metadata": {},
   "outputs": [],
   "source": [
    "# Install the plaidml backend\n",
    "## DO THIS BEFORE IMPORTING KERAS OR TENSOR TO USE PLAIDML\n",
    "import plaidml.keras\n",
    "plaidml.keras.install_backend()\n",
    "\n",
    "# Help MacOS be able to use Keras\n",
    "import os\n",
    "os.environ[\"KERAS_BACKEND\"] = \"plaidml.keras.backend\"\n",
    "# Gets rid of the processor warning.\n",
    "os.environ['KMP_DUPLICATE_LIB_OK']='True'"
   ]
  },
  {
   "cell_type": "code",
   "execution_count": 9,
   "metadata": {},
   "outputs": [],
   "source": [
    "## Use this as callback on .fit (callbacks=[cb])\n",
    "## NOT necessary\n",
    "\n",
    "# better progress bars for jupyter and won't kill model fit\n",
    "# Command line the following line to get tqdm installed properly\n",
    "# python -m pip install tqdm\n",
    "from keras_tqdm import TQDMNotebookCallback\n",
    "# keras, model definition...\n",
    "cb = TQDMNotebookCallback()\n",
    "setattr(cb,'on_train_batch_begin',lambda x,y:None)\n",
    "setattr(cb,'on_train_batch_end',lambda x,y:None)"
   ]
  },
  {
   "cell_type": "code",
   "execution_count": 10,
   "metadata": {},
   "outputs": [],
   "source": [
    "from __future__ import print_function\n",
    "import numpy as np\n",
    "from keras.preprocessing.image import img_to_array\n",
    "from keras.datasets import mnist\n",
    "from keras.models import Sequential, Model\n",
    "from keras.layers import Dense, Dropout, Flatten, Activation, Input\n",
    "from keras.layers import Conv2D, MaxPooling2D\n",
    "from keras import backend as K\n",
    "from keras.preprocessing.image import ImageDataGenerator\n",
    "from sklearn.model_selection import train_test_split\n",
    "import pandas as pd\n",
    "import time\n",
    "import glob\n",
    "import cv2\n",
    "import matplotlib.pyplot as plt\n",
    "import keras\n",
    "from keras.datasets import cifar10"
   ]
  },
  {
   "cell_type": "markdown",
   "metadata": {},
   "source": [
    "### Constants"
   ]
  },
  {
   "cell_type": "code",
   "execution_count": 11,
   "metadata": {},
   "outputs": [],
   "source": [
    "batch_size = 32\n",
    "num_classes = 10\n",
    "epochs = 20\n",
    "data_augmentation = True\n",
    "num_predictions = 20\n",
    "save_dir = os.path.join('../data/')\n",
    "model_name = 'keras_cifar10_trained_model.h5'"
   ]
  },
  {
   "cell_type": "markdown",
   "metadata": {},
   "source": [
    "### Use Keras provided data"
   ]
  },
  {
   "cell_type": "code",
   "execution_count": 13,
   "metadata": {},
   "outputs": [
    {
     "name": "stdout",
     "output_type": "stream",
     "text": [
      "x_train shape: (50000, 32, 32, 3)\n",
      "50000 train samples\n",
      "10000 test samples\n"
     ]
    }
   ],
   "source": [
    "# The data, split between train and test sets:\n",
    "(x_train, y_train), (x_test, y_test) = cifar10.load_data()\n",
    "print('x_train shape:', x_train.shape)\n",
    "print(x_train.shape[0], 'train samples')\n",
    "print(x_test.shape[0], 'test samples')"
   ]
  },
  {
   "cell_type": "code",
   "execution_count": 14,
   "metadata": {},
   "outputs": [],
   "source": [
    "# Convert class vectors to binary class matrices.\n",
    "y_train = keras.utils.to_categorical(y_train, num_classes)\n",
    "y_test = keras.utils.to_categorical(y_test, num_classes)"
   ]
  },
  {
   "cell_type": "code",
   "execution_count": 15,
   "metadata": {},
   "outputs": [
    {
     "name": "stderr",
     "output_type": "stream",
     "text": [
      "INFO:plaidml:Opening device \"metal_amd_radeon_pro_vega_20.0\"\n"
     ]
    }
   ],
   "source": [
    "model = Sequential()\n",
    "model.add(Conv2D(32, (3, 3), padding='same',\n",
    "                 input_shape=x_train.shape[1:]))\n",
    "model.add(Activation('relu'))\n",
    "model.add(Conv2D(32, (3, 3)))\n",
    "model.add(Activation('relu'))\n",
    "model.add(MaxPooling2D(pool_size=(2, 2)))\n",
    "model.add(Dropout(0.25))\n",
    "\n",
    "model.add(Conv2D(64, (3, 3), padding='same'))\n",
    "model.add(Activation('relu'))\n",
    "model.add(Conv2D(64, (3, 3)))\n",
    "model.add(Activation('relu'))\n",
    "model.add(MaxPooling2D(pool_size=(2, 2)))\n",
    "model.add(Dropout(0.25))\n",
    "\n",
    "model.add(Flatten())\n",
    "model.add(Dense(512))\n",
    "model.add(Activation('relu'))\n",
    "model.add(Dropout(0.5))\n",
    "model.add(Dense(num_classes))\n",
    "model.add(Activation('softmax'))\n",
    "\n",
    "# initiate RMSprop optimizer\n",
    "opt = keras.optimizers.rmsprop(lr=0.0001, decay=1e-6)\n",
    "\n",
    "# Let's train the model using RMSprop\n",
    "model.compile(loss='categorical_crossentropy',\n",
    "              optimizer=opt,\n",
    "              metrics=['accuracy'])"
   ]
  },
  {
   "cell_type": "code",
   "execution_count": 16,
   "metadata": {},
   "outputs": [],
   "source": [
    "# This is equivalent to scaling\n",
    "x_train = x_train.astype('float32')\n",
    "x_test = x_test.astype('float32')\n",
    "x_train /= 255\n",
    "x_test /= 255"
   ]
  },
  {
   "cell_type": "code",
   "execution_count": 17,
   "metadata": {},
   "outputs": [
    {
     "name": "stdout",
     "output_type": "stream",
     "text": [
      "Using real-time data augmentation.\n",
      "Epoch 1/20\n",
      "1563/1563 [==============================] - 60s 38ms/step - loss: 1.8642 - acc: 0.3136 - val_loss: 1.5233 - val_acc: 0.4451\n",
      "Epoch 2/20\n",
      "1563/1563 [==============================] - 56s 36ms/step - loss: 1.5650 - acc: 0.4277 - val_loss: 1.3822 - val_acc: 0.4992\n",
      "Epoch 3/20\n",
      "1563/1563 [==============================] - 56s 36ms/step - loss: 1.4457 - acc: 0.4759 - val_loss: 1.2697 - val_acc: 0.5509\n",
      "Epoch 4/20\n",
      "1563/1563 [==============================] - 56s 36ms/step - loss: 1.3613 - acc: 0.5123 - val_loss: 1.2127 - val_acc: 0.5650\n",
      "Epoch 5/20\n",
      "1563/1563 [==============================] - 56s 36ms/step - loss: 1.2921 - acc: 0.5399 - val_loss: 1.1988 - val_acc: 0.5805\n",
      "Epoch 6/20\n",
      "1563/1563 [==============================] - 56s 36ms/step - loss: 1.2454 - acc: 0.5561 - val_loss: 1.0851 - val_acc: 0.6159\n",
      "Epoch 7/20\n",
      "1563/1563 [==============================] - 56s 36ms/step - loss: 1.1908 - acc: 0.5759 - val_loss: 1.0644 - val_acc: 0.6297\n",
      "Epoch 8/20\n",
      "1563/1563 [==============================] - 56s 36ms/step - loss: 1.1586 - acc: 0.5901 - val_loss: 1.0443 - val_acc: 0.6353\n",
      "Epoch 9/20\n",
      "1563/1563 [==============================] - 57s 36ms/step - loss: 1.1223 - acc: 0.6011 - val_loss: 1.0430 - val_acc: 0.6430\n",
      "Epoch 10/20\n",
      "1563/1563 [==============================] - 57s 36ms/step - loss: 1.0957 - acc: 0.6119 - val_loss: 0.9273 - val_acc: 0.6768\n",
      "Epoch 11/20\n",
      "1563/1563 [==============================] - 57s 36ms/step - loss: 1.0659 - acc: 0.6258 - val_loss: 0.9686 - val_acc: 0.6608\n",
      "Epoch 12/20\n",
      "1563/1563 [==============================] - 56s 36ms/step - loss: 1.0384 - acc: 0.6326 - val_loss: 0.9573 - val_acc: 0.6671\n",
      "Epoch 13/20\n",
      "1563/1563 [==============================] - 56s 36ms/step - loss: 1.0176 - acc: 0.6434 - val_loss: 0.8660 - val_acc: 0.6951\n",
      "Epoch 14/20\n",
      "1563/1563 [==============================] - 56s 36ms/step - loss: 0.9971 - acc: 0.6485 - val_loss: 0.8599 - val_acc: 0.6984\n",
      "Epoch 15/20\n",
      "1563/1563 [==============================] - 56s 36ms/step - loss: 0.9774 - acc: 0.6575 - val_loss: 0.9162 - val_acc: 0.6834\n",
      "Epoch 16/20\n",
      "1563/1563 [==============================] - 56s 36ms/step - loss: 0.9580 - acc: 0.6640 - val_loss: 0.8418 - val_acc: 0.7082\n",
      "Epoch 17/20\n",
      "1563/1563 [==============================] - 56s 36ms/step - loss: 0.9501 - acc: 0.6669 - val_loss: 0.8698 - val_acc: 0.7003\n",
      "Epoch 18/20\n",
      "1563/1563 [==============================] - 56s 36ms/step - loss: 0.9290 - acc: 0.6751 - val_loss: 0.8647 - val_acc: 0.7091\n",
      "Epoch 19/20\n",
      "1563/1563 [==============================] - 54s 34ms/step - loss: 0.9196 - acc: 0.6790 - val_loss: 0.8079 - val_acc: 0.7209\n",
      "Epoch 20/20\n",
      "1563/1563 [==============================] - 54s 34ms/step - loss: 0.9115 - acc: 0.6811 - val_loss: 0.7914 - val_acc: 0.7241\n"
     ]
    }
   ],
   "source": [
    "# set data_augmentation to True or False in the constants cell\n",
    "\n",
    "if not data_augmentation:\n",
    "    print('Not using data augmentation.')\n",
    "    model.fit(x_train, y_train,\n",
    "              batch_size=batch_size,\n",
    "              epochs=epochs,\n",
    "              validation_data=(x_test, y_test),\n",
    "              shuffle=True)\n",
    "else:\n",
    "    print('Using real-time data augmentation.')\n",
    "    # This will do preprocessing and realtime data augmentation:\n",
    "    datagen = ImageDataGenerator(\n",
    "        featurewise_center=False,  # set input mean to 0 over the dataset\n",
    "        samplewise_center=False,  # set each sample mean to 0\n",
    "        featurewise_std_normalization=False,  # divide inputs by std of the dataset\n",
    "        samplewise_std_normalization=False,  # divide each input by its std\n",
    "        zca_whitening=False,  # apply ZCA whitening\n",
    "        zca_epsilon=1e-06,  # epsilon for ZCA whitening\n",
    "        rotation_range=0,  # randomly rotate images in the range (degrees, 0 to 180)\n",
    "        # randomly shift images horizontally (fraction of total width)\n",
    "        width_shift_range=0.1,\n",
    "        # randomly shift images vertically (fraction of total height)\n",
    "        height_shift_range=0.1,\n",
    "        shear_range=0.,  # set range for random shear\n",
    "        zoom_range=0.,  # set range for random zoom\n",
    "        channel_shift_range=0.,  # set range for random channel shifts\n",
    "        # set mode for filling points outside the input boundaries\n",
    "        fill_mode='nearest',\n",
    "        cval=0.,  # value used for fill_mode = \"constant\"\n",
    "        horizontal_flip=True,  # randomly flip images\n",
    "        vertical_flip=False,  # randomly flip images\n",
    "        # set rescaling factor (applied before any other transformation)\n",
    "        rescale=None,\n",
    "        # set function that will be applied on each input\n",
    "        preprocessing_function=None,\n",
    "        # image data format, either \"channels_first\" or \"channels_last\"\n",
    "        data_format=None,\n",
    "        # fraction of images reserved for validation (strictly between 0 and 1)\n",
    "        validation_split=0.0)\n",
    "\n",
    "    # Compute quantities required for feature-wise normalization\n",
    "    # (std, mean, and principal components if ZCA whitening is applied).\n",
    "    datagen.fit(x_train)\n",
    "\n",
    "    # Fit the model on the batches generated by datagen.flow().\n",
    "    model.fit_generator(datagen.flow(x_train, y_train,\n",
    "                                     batch_size=batch_size),\n",
    "                        epochs=epochs,\n",
    "                        validation_data=(x_test, y_test),\n",
    "                        workers=12,\n",
    "                        use_multiprocessing=True)"
   ]
  },
  {
   "cell_type": "code",
   "execution_count": 18,
   "metadata": {},
   "outputs": [
    {
     "name": "stdout",
     "output_type": "stream",
     "text": [
      "Saved trained model at ../data/keras_cifar10_trained_model.h5 \n"
     ]
    }
   ],
   "source": [
    "# Save model and weights\n",
    "if not os.path.isdir(save_dir):\n",
    "    os.makedirs(save_dir)\n",
    "model_path = os.path.join(save_dir, model_name)\n",
    "model.save(model_path)\n",
    "print('Saved trained model at %s ' % model_path)"
   ]
  },
  {
   "cell_type": "code",
   "execution_count": 19,
   "metadata": {},
   "outputs": [
    {
     "name": "stdout",
     "output_type": "stream",
     "text": [
      "10000/10000 [==============================] - 2s 190us/step\n",
      "Test loss: 0.791367405796051\n",
      "Test accuracy: 0.7241\n"
     ]
    }
   ],
   "source": [
    "# Score trained model.\n",
    "scores = model.evaluate(x_test, y_test, verbose=1)\n",
    "print('Test loss:', scores[0])\n",
    "print('Test accuracy:', scores[1])"
   ]
  },
  {
   "cell_type": "code",
   "execution_count": null,
   "metadata": {},
   "outputs": [],
   "source": []
  }
 ],
 "metadata": {
  "kernelspec": {
   "display_name": "tensor",
   "language": "python",
   "name": "tensor"
  },
  "language_info": {
   "codemirror_mode": {
    "name": "ipython",
    "version": 3
   },
   "file_extension": ".py",
   "mimetype": "text/x-python",
   "name": "python",
   "nbconvert_exporter": "python",
   "pygments_lexer": "ipython3",
   "version": "3.6.8"
  }
 },
 "nbformat": 4,
 "nbformat_minor": 2
}
